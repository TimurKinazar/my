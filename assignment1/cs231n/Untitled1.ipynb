{
 "cells": [
  {
   "cell_type": "code",
   "execution_count": 3,
   "metadata": {},
   "outputs": [
    {
     "name": "stdout",
     "output_type": "stream",
     "text": [
      "[20000.0, 50000.0, 100000.0]\n",
      "[20000.0, 50000.0, 100000.0]\n",
      "[20000.0, 50000.0, 100000.0]\n",
      "[20000.0, 50000.0, 100000.0]\n",
      "[20000.0, 50000.0, 100000.0]\n",
      "[20000.0, 50000.0, 100000.0]\n",
      "[20000.0, 50000.0, 100000.0]\n",
      "[20000.0, 50000.0, 100000.0]\n",
      "[20000.0, 50000.0, 100000.0]\n"
     ]
    }
   ],
   "source": [
    "learning_rates = [2e-7, 1e-7, 5e-8]\n",
    "regularization_strengths = [2e4, 5e4, 1e5]\n",
    "\n",
    "\n",
    "for learning in learning_rates:\n",
    "    for regularization in regularization_strengths:\n",
    "        print(regularization_strengths)"
   ]
  }
 ],
 "metadata": {
  "kernelspec": {
   "display_name": "Python 3",
   "language": "python",
   "name": "python3"
  },
  "language_info": {
   "codemirror_mode": {
    "name": "ipython",
    "version": 3
   },
   "file_extension": ".py",
   "mimetype": "text/x-python",
   "name": "python",
   "nbconvert_exporter": "python",
   "pygments_lexer": "ipython3",
   "version": "3.6.5"
  }
 },
 "nbformat": 4,
 "nbformat_minor": 2
}
