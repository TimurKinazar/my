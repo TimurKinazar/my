{
 "cells": [
  {
   "cell_type": "code",
   "execution_count": 69,
   "metadata": {},
   "outputs": [
    {
     "name": "stdout",
     "output_type": "stream",
     "text": [
      "[[0. 1. 0.]\n",
      " [0. 0. 0.]\n",
      " [1. 1. 0.]]\n",
      "[[1.]\n",
      " [0.]\n",
      " [2.]]\n",
      "[[-1.  1.  0.]\n",
      " [ 0. -0.  0.]\n",
      " [ 1.  1. -2.]]\n"
     ]
    }
   ],
   "source": [
    "import random\n",
    "import numpy as np\n",
    "import matplotlib.pyplot as plt\n",
    "\n",
    "X= np.random.randn(3,6) \n",
    "W = np.random.randn(6, 3)\n",
    "y = np.array(range(0,3))\n",
    "#print(y.shape)\n",
    "dW = np.zeros(W.shape) # initialize the gradient as zero\n",
    "num_train = X.shape[0]\n",
    "\n",
    "  #############################################################################\n",
    "  # Implement a vectorized version of the structured SVM loss, storing the    #\n",
    "  # result in loss.                                                           #\n",
    "  #############################################################################\n",
    "scores = X.dot(W)\n",
    "#print(scores.shape)\n",
    "#print(scores)\n",
    "yi_scores = scores[np.arange(scores.shape[0]),y] # http://stackoverflow.com/a/23435843/459241 \n",
    "#print(yi_scores)\n",
    "#print(scores - np.matrix(yi_scores).T +1)\n",
    "margins = np.maximum(0, scores - np.matrix(yi_scores).T + 1)\n",
    "margins[np.arange(num_train),y] = 0\n",
    "#print(margins)\n",
    "binary = margins\n",
    "binary[margins > 0] = 1\n",
    "print(binary)\n",
    "row_sum = np.sum(binary, axis=1)\n",
    "print(row_sum)\n",
    "binary[np.arange(num_train), y] = -row_sum.T\n",
    "print(binary)"
   ]
  }
 ],
 "metadata": {
  "kernelspec": {
   "display_name": "Python 3",
   "language": "python",
   "name": "python3"
  },
  "language_info": {
   "codemirror_mode": {
    "name": "ipython",
    "version": 3
   },
   "file_extension": ".py",
   "mimetype": "text/x-python",
   "name": "python",
   "nbconvert_exporter": "python",
   "pygments_lexer": "ipython3",
   "version": "3.6.5"
  }
 },
 "nbformat": 4,
 "nbformat_minor": 2
}
